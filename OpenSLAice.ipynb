{
 "cells": [
  {
   "cell_type": "markdown",
   "id": "ac3a86a4",
   "metadata": {},
   "source": [
    "### Needed imports"
   ]
  },
  {
   "cell_type": "code",
   "execution_count": null,
   "id": "afc55f24",
   "metadata": {},
   "outputs": [],
   "source": [
    "import sys\n",
    "import os\n",
    "import numpy as np\n",
    "\n",
    "# Add the project root directory to Python path\n",
    "project_root = os.path.dirname(os.path.abspath(os.getcwd()))\n",
    "if project_root not in sys.path:\n",
    "    sys.path.append(project_root)\n",
    "\n",
    "import src.slicer.resins\n",
    "import src.slicer.printers\n",
    "from src.slicer.core.printer import PrinterRegistry\n",
    "from src.slicer.core.resin import ResinRegistry\n",
    "from src.slicer.core.slicer import Slicer, ParameterMode\n",
    "from src.slicer.calibration.calibration import create_calibration_print\n"
   ]
  },
  {
   "cell_type": "markdown",
   "id": "aa633e0b",
   "metadata": {},
   "source": [
    "### Test Calibration print\n",
    "\n",
    "change the exposuretimes to the values you want to test for the 8 test samples"
   ]
  },
  {
   "cell_type": "code",
   "execution_count": null,
   "id": "5e59aa94",
   "metadata": {},
   "outputs": [],
   "source": [
    "printer = PrinterRegistry.get(\"Anycubic Mono4 Ultra\")\n",
    "resin = ResinRegistry.get(\"Resin for Calibration\")\n",
    "export_path = \"/home/benni/Documents/Repos/MF-SLA-Slicer/src/slicer/export/\"\n",
    "exp_test_start = 4.0\n",
    "exp_test_steps = 0.6\n",
    "exp_to_test = []\n",
    "for i in range(8):\n",
    "    exp_to_test.append(round(exp_test_start + i * exp_test_steps, 2))\n",
    "exp_to_test = exp_to_test[::-1]  # Reverse the list to start with the lowest exposure time\n",
    "print(exp_to_test)\n",
    "\n",
    "create_calibration_print(\n",
    "    printer=printer,\n",
    "    resin=resin,\n",
    "    export_path=export_path,\n",
    "    layer_height=0.05,\n",
    "    exp_time_base=4.5,\n",
    "    exp_times_to_test=exp_to_test,\n",
    "    exp_time_first_layers=40.0,\n",
    "    first_layers=5\n",
    ")"
   ]
  },
  {
   "cell_type": "markdown",
   "id": "a0292d48",
   "metadata": {},
   "source": [
    "### Test Slice\n",
    "1. choose one of the example stls and use the path variable in the function `add_input_file`\n",
    "2. change the file name and the path where the file is stored in the function `save` acording to your needs\n",
    "3. run the code"
   ]
  },
  {
   "cell_type": "code",
   "execution_count": null,
   "id": "66a0e921",
   "metadata": {},
   "outputs": [],
   "source": [
    "spheroid = \"./examples/stls/spheroid_vsmall.stl\"\n",
    "mixer = \"./examples/stls/mixer.stl\"\n",
    "elisa = \"./examples/stls/ELISA_chip.stl\"\n",
    "rot_spheroid = \"./examples/stls/spheroid_vsmall_rotated.stl\"\n",
    "rot_mixer = \"./examples/stls/mixer_rotated.stl\"\n",
    "rot_elisa = \"./examples/stls/elisa_rotated.stl\"\n",
    "docking_plate_subsection = \"/home/benni/Downloads/docking_plate_subsection.stl\"\n",
    "\n",
    "printer = PrinterRegistry.get(\"Anycubic Mono4 Ultra\")\n",
    "resin = ResinRegistry.get(\"Anycubic Standard Clear\")\n",
    "\n",
    "mf_sla_slicer = Slicer(printer=printer, resin=resin)\n",
    "mf_sla_slicer.add_input_file(spheroid)\n",
    "mf_sla_slicer.auto_orientation()\n",
    "\n",
    "\n",
    "mf_sla_slicer.auto_arrange(2)\n",
    "#mf_sla_slicer.stls[0].set_position_mm(0.5, 12.0)\n",
    "mf_sla_slicer.set_layer_height_method(ParameterMode.AUTO)\n",
    "mf_sla_slicer.set_forced_layer_height(0.02)\n",
    "mf_sla_slicer.slice_all()\n",
    "mf_sla_slicer.rasterize(255)\n",
    "mf_sla_slicer.save(\"spheroid\", \"/home/benni/Downloads\")"
   ]
  }
 ],
 "metadata": {
  "kernelspec": {
   "display_name": ".venv",
   "language": "python",
   "name": "python3"
  },
  "language_info": {
   "codemirror_mode": {
    "name": "ipython",
    "version": 3
   },
   "file_extension": ".py",
   "mimetype": "text/x-python",
   "name": "python",
   "nbconvert_exporter": "python",
   "pygments_lexer": "ipython3",
   "version": "3.13.5"
  }
 },
 "nbformat": 4,
 "nbformat_minor": 5
}
